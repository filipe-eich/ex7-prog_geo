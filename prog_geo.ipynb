{
 "cells": [
  {
   "cell_type": "code",
   "execution_count": 1,
   "id": "448c25c0-2634-48ab-96d9-cd63a23aee65",
   "metadata": {},
   "outputs": [
    {
     "data": {
      "text/plain": [
       "'\\nPrograma: prog_arit\\nDescrição: Este programa calcula uma progressão aritmética à escolha do usuário\\nAutor: Filipe Eich\\nData: 25/02/2025\\nVersao: 0.0.1\\n'"
      ]
     },
     "execution_count": 1,
     "metadata": {},
     "output_type": "execute_result"
    }
   ],
   "source": [
    "\"\"\"\n",
    "Programa: prog_geo\n",
    "Descrição: Este programa calcula uma progressão geométrica à escolha do usuário\n",
    "Autor: Filipe Eich\n",
    "Data: 25/02/2025\n",
    "Versao: 0.0.1\n",
    "\"\"\"\n"
   ]
  },
  {
   "cell_type": "code",
   "execution_count": 2,
   "id": "894fd8a0-64c7-4b54-8659-5d44615f515f",
   "metadata": {},
   "outputs": [],
   "source": [
    "#Alocaçao de memoria\n",
    "\n",
    "n=\"\"\n",
    "razao=\"\"\n",
    "nesimo=\"\"\n",
    "termo=\"\"\n",
    "soma=\"\"\n"
   ]
  },
  {
   "cell_type": "code",
   "execution_count": 4,
   "id": "69533df8-fc7f-49b8-b32f-92411efd25d3",
   "metadata": {
    "scrolled": true
   },
   "outputs": [
    {
     "name": "stdin",
     "output_type": "stream",
     "text": [
      "\n",
      "Olá! Vamos calcular uma progressão geométrica? Comece digitando o primeiro termo da P.G.:  5\n",
      "\n",
      "Agora, diga a razão:  2\n",
      "\n",
      "Por fim, defina o valor de n para calcularmos qual será o n-ésimo termo:  4\n"
     ]
    }
   ],
   "source": [
    "#Entrada de dados\n",
    "\n",
    "termo = float(input(\"\\nOlá! Vamos calcular uma progressão geométrica? Comece digitando o primeiro termo da P.G.: \"))\n",
    "\n",
    "razao = float(input(\"\\nAgora, diga a razão: \"))\n",
    "\n",
    "\n",
    "n = float(input(\"\\nPor fim, defina o valor de n para calcularmos qual será o n-ésimo termo: \"))\n",
    "\n",
    "\n",
    "\n"
   ]
  },
  {
   "cell_type": "code",
   "execution_count": 14,
   "id": "9ec6182e-f888-4622-8308-4ecf55fffcc7",
   "metadata": {},
   "outputs": [],
   "source": [
    "# Processamento de dados\n",
    "\n",
    "nesimo=termo*(razao**(n-1))\n",
    "\n",
    "soma= termo*(((razao**n)-1)/(razao-1))\n",
    "\n"
   ]
  },
  {
   "cell_type": "code",
   "execution_count": 16,
   "id": "23ca565b-9252-4690-983f-980220c1d4f4",
   "metadata": {},
   "outputs": [
    {
     "name": "stdout",
     "output_type": "stream",
     "text": [
      "\n",
      "Aqui está o valor do n-ésimo termo: 40.0\n",
      "\n",
      "Aqui está o valor da soma da P.G.: 75.0\n"
     ]
    }
   ],
   "source": [
    "#Saida de dados\n",
    "\n",
    "\n",
    "print(f\"\\nAqui está o valor do n-ésimo termo: {nesimo}\")\n",
    "\n",
    "print(f\"\\nAqui está o valor da soma da P.G.: {soma}\")\n",
    "\n",
    "\n",
    "\n"
   ]
  },
  {
   "cell_type": "code",
   "execution_count": null,
   "id": "5963554e-b214-463f-820b-86e8ba70fe6c",
   "metadata": {},
   "outputs": [],
   "source": []
  }
 ],
 "metadata": {
  "kernelspec": {
   "display_name": "Python [conda env:base] *",
   "language": "python",
   "name": "conda-base-py"
  },
  "language_info": {
   "codemirror_mode": {
    "name": "ipython",
    "version": 3
   },
   "file_extension": ".py",
   "mimetype": "text/x-python",
   "name": "python",
   "nbconvert_exporter": "python",
   "pygments_lexer": "ipython3",
   "version": "3.12.7"
  }
 },
 "nbformat": 4,
 "nbformat_minor": 5
}
